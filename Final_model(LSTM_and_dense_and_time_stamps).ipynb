{
  "nbformat": 4,
  "nbformat_minor": 0,
  "metadata": {
    "kernelspec": {
      "display_name": "Python 3",
      "language": "python",
      "name": "python3"
    },
    "language_info": {
      "codemirror_mode": {
        "name": "ipython",
        "version": 3
      },
      "file_extension": ".py",
      "mimetype": "text/x-python",
      "name": "python",
      "nbconvert_exporter": "python",
      "pygments_lexer": "ipython3",
      "version": "3.7.1"
    },
    "colab": {
      "name": "Final model(LSTM_and_dense_and_time_stamps).ipynb",
      "provenance": [],
      "collapsed_sections": []
    }
  },
  "cells": [
    {
      "cell_type": "markdown",
      "metadata": {
        "id": "6_RurYRoRqH0"
      },
      "source": [
        "importing essential libraries"
      ]
    },
    {
      "cell_type": "code",
      "metadata": {
        "id": "C9zWvOpwRqH2"
      },
      "source": [
        "import requests\n",
        "import numpy as np\n",
        "import pandas as pd\n",
        "import keras\n",
        "from keras.models import Sequential\n",
        "from keras.optimizers import Adam\n",
        "from keras.layers import Dense,Flatten,LSTM,Dropout\n",
        "from keras.metrics import categorical_crossentropy\n",
        "import timeit\n",
        "from sklearn import metrics\n",
        "from datetime import datetime"
      ],
      "execution_count": 18,
      "outputs": []
    },
    {
      "cell_type": "markdown",
      "metadata": {
        "id": "ipim6TW0FNC_"
      },
      "source": [
        "importing data direct from cloud"
      ]
    },
    {
      "cell_type": "code",
      "metadata": {
        "id": "nPi8qSKxFEfS"
      },
      "source": [
        "colors = '''aliceblue, antiquewhite, aqua, aquamarine, azure,\n",
        "beige, bisque, black, blanchedalmond, blue,\n",
        "blueviolet, brown, burlywood, cadetblue,\n",
        "chartreuse, chocolate, coral, cornflowerblue,\n",
        "cornsilk, crimson, cyan, darkblue, darkcyan,\n",
        "darkgoldenrod, darkgray, darkgrey, darkgreen,\n",
        "darkkhaki, darkmagenta, darkolivegreen, darkorange,\n",
        "darkorchid, darkred, darksalmon, darkseagreen,\n",
        "darkslateblue, darkslategray, darkslategrey,\n",
        "darkturquoise, darkviolet, deeppink, deepskyblue,\n",
        "dimgray, dimgrey, dodgerblue, firebrick,\n",
        "floralwhite, forestgreen, fuchsia, gainsboro,\n",
        "ghostwhite, gold, goldenrod, gray, grey, green,\n",
        "greenyellow, honeydew, hotpink, indianred, indigo,\n",
        "ivory, khaki, lavender, lavenderblush, lawngreen,\n",
        "lemonchiffon, lime, limegreen,\n",
        "linen, magenta, maroon, mediumaquamarine,\n",
        "mediumblue, mediumorchid, mediumpurple,\n",
        "mediumseagreen, mediumslateblue, mediumspringgreen,\n",
        "mediumturquoise, mediumvioletred, midnightblue,\n",
        "mintcream, mistyrose, moccasin, navajowhite, navy,\n",
        "oldlace, olive, olivedrab, orange, orangered,\n",
        "orchid, palegoldenrod, palegreen, paleturquoise,\n",
        "palevioletred, papayawhip, peachpuff, peru, pink,\n",
        "plum, powderblue, purple, red, rosybrown,\n",
        "royalblue, saddlebrown, salmon, sandybrown,\n",
        "seagreen, seashell, sienna, silver, skyblue,\n",
        "slateblue, slategray, slategrey, snow, springgreen,\n",
        "steelblue, tan, teal, thistle, tomato, turquoise,\n",
        "violet, wheat, white, whitesmoke, yellow,\n",
        "yellowgreen'''\n",
        "colors = colors.replace(' ','')\n",
        "colors = colors.replace('\\n','')\n",
        "colors = colors.split(',')"
      ],
      "execution_count": 19,
      "outputs": []
    },
    {
      "cell_type": "markdown",
      "metadata": {
        "id": "LAnzCGCS5U1q"
      },
      "source": [
        "Importing data directly from cloud storage"
      ]
    },
    {
      "cell_type": "code",
      "metadata": {
        "id": "HugB0VHOFXTA"
      },
      "source": [
        "r = requests.get('https://vor76f0raj.execute-api.ap-south-1.amazonaws.com/dev/listFiles')\n",
        "files = r.json()\n",
        "files.reverse()\n",
        "counter = 0\n",
        "for f in files:\n",
        "    f['index'] = counter\n",
        "    f['filePath'] = f['filePath'].replace(' ', '+')\n",
        "    counter += 1\n",
        "\n",
        "def pf(fm):\n",
        "  points = str(fm['dataPoints']) if 'dataPoints' in fm else 'N/A'\n",
        "  interval = str((fm['endTime'] - fm['startTime']) // fm['dataPoints']) if (points != 'N/A') else 'N/A'\n",
        "  print(str(fm['index']) + '.\\t' + points + '\\t' + interval + '\\t' + fm['user'].strip() + '\\t' + fm['activity'] + '\\t' + str(datetime.fromtimestamp(fm['startTime'] // 1000)))\n",
        "\n",
        "def search(text):\n",
        "  for f in files:\n",
        "    if text in f['user'] or text in f['activity']:\n",
        "      pf(f)\n"
      ],
      "execution_count": 22,
      "outputs": []
    },
    {
      "cell_type": "markdown",
      "metadata": {
        "id": "RCKNXLNWGZAM"
      },
      "source": [
        "importing data of a particular index"
      ]
    },
    {
      "cell_type": "code",
      "metadata": {
        "id": "AxGBwah1FtGD"
      },
      "source": [
        "def read_data(fileindex):\n",
        "  data=pd.read_csv(files[fileindex]['filePath'])\n",
        "  \n",
        "  return data[[\"accelerox\",\"acceleroy\",\"acceleroz\",\"gyrox\",\"gyroy\",\"gyroz\"]]\n",
        "  "
      ],
      "execution_count": 4,
      "outputs": []
    },
    {
      "cell_type": "markdown",
      "metadata": {
        "id": "NwPjxFMEFxtS"
      },
      "source": [
        "trimming data from the beginning because at the beginning there are some 0 values and also shape of both running and walking training data becomes same by doing this"
      ]
    },
    {
      "cell_type": "code",
      "metadata": {
        "id": "Gzs0uHFZF8sf"
      },
      "source": [
        "def filter_df(data):\n",
        "  for col in [\"accelerox\",\"acceleroy\",\"acceleroz\",\"gyrox\",\"gyroy\",\"gyroz\"]:\n",
        "\n",
        "    data[col]=np.around(data[col]*100,0)\n",
        "    data[col]=data[col]/100\n",
        "  return data \n",
        "def trim(data,val):\n",
        " l1=int((data.shape[0]-val)/2)\n",
        " l=data.shape[0]-val-l1\n",
        "\n",
        " d1=list(np.arange(val+l,data.shape[0]))\n",
        "\n",
        " d2=list(np.arange(0,l))\n",
        "\n",
        " data.drop(d1,inplace=True)\n",
        " data.drop(d2,inplace=True)\n",
        "\n",
        " return data "
      ],
      "execution_count": 12,
      "outputs": []
    },
    {
      "cell_type": "markdown",
      "metadata": {
        "id": "-IOIpcudRqID"
      },
      "source": [
        "reshaping data into timestamps"
      ]
    },
    {
      "cell_type": "code",
      "metadata": {
        "id": "DHXjPTdvdd1Q"
      },
      "source": [
        "def shaping(data,number): \n",
        " l=[]\n",
        " for n in range(int(data.shape[0]/number)):\n",
        "   l.append(data[number*n:number*(n+1)])\n",
        " hoho=np.array(l)\n",
        " return hoho"
      ],
      "execution_count": 6,
      "outputs": []
    },
    {
      "cell_type": "markdown",
      "metadata": {
        "id": "BH8oSbxdRqIR"
      },
      "source": [
        "importing data"
      ]
    },
    {
      "cell_type": "code",
      "metadata": {
        "id": "f6dqbgTTRqIS"
      },
      "source": [
        "def im_data(tw,tr,te,vw,vr,number):\n",
        "  \n",
        "    \n",
        " \n",
        " trainwalk=filter_df(read_data(tw))\n",
        " trainrun=filter_df(read_data(tr))\n",
        " validwalk=filter_df(read_data(vw))\n",
        " validrun=filter_df(read_data(vr))    \n",
        " xtest=filter_df(read_data(te)) \n",
        " \n",
        "\n",
        " val=20000\n",
        "\n",
        " walk=trim(trainwalk,val)\n",
        " run=trim(trainrun,val)\n",
        " \n",
        "\n",
        " \n",
        "\n",
        " val=5000\n",
        "\n",
        " vwalk=trim(validwalk,val)\n",
        " vrun=trim(validrun,val)\n",
        " \n",
        "\n",
        " val=5000\n",
        " xtest=trim(xtest,val)\n",
        "\n",
        " \n",
        " \n",
        "\n",
        " xvalid=np.array(pd.concat([vwalk,vrun]))\n",
        " xtrain=np.array(pd.concat([walk,run]))\n",
        " xtest=np.array(xtest)\n",
        "   \n",
        " \n",
        " xvalid=shaping(xvalid,number)\n",
        " xtrain=shaping(xtrain,number) \n",
        " xtest=shaping(xtest,number)\n",
        "\n",
        "\n",
        "\n",
        " return (xtrain,xtest,xvalid)"
      ],
      "execution_count": 7,
      "outputs": []
    },
    {
      "cell_type": "markdown",
      "metadata": {
        "id": "zXQ6XJjxRqIX"
      },
      "source": [
        "creating output labels"
      ]
    },
    {
      "cell_type": "code",
      "metadata": {
        "id": "MAjTp1NaRqIX"
      },
      "source": [
        "def label_create(trainsize,testsize,validsize,cho):\n",
        "    ytrain=list(np.zeros((1,int(trainsize/2))).ravel().astype(\"int\"))\n",
        "    ytrain+=list(np.ones((1,int(trainsize/2))).ravel().astype(\"int\"))\n",
        "    ytrain=keras.utils.to_categorical(np.array(ytrain))\n",
        "    \n",
        "\n",
        "    yvalid=list(np.zeros((1,int(validsize/2))).ravel().astype(\"int\"))\n",
        "    yvalid+=list(np.ones((1,int(validsize/2))).ravel().astype(\"int\"))\n",
        "    yvalid=keras.utils.to_categorical(np.array(yvalid))    \n",
        "    \n",
        "    if cho==1:\n",
        "     ytest=[0]\n",
        "     ytest+=list(np.ones((1,testsize)).ravel().astype(\"int\")) \n",
        "     ytest=keras.utils.to_categorical(np.array(ytest)) \n",
        "     ytest=np.delete(ytest,[0],axis=0)\n",
        "    if cho==0:\n",
        "     ytest=[1]\n",
        "     ytest+=list(np.zeros((1,testsize)).ravel().astype(\"int\")) \n",
        "     ytest=keras.utils.to_categorical(np.array(ytest)) \n",
        "     ytest=np.delete(ytest,[0],axis=0)    \n",
        "     \n",
        "    return (ytrain,ytest,yvalid)"
      ],
      "execution_count": 8,
      "outputs": []
    },
    {
      "cell_type": "markdown",
      "metadata": {
        "id": "QU-nnxRYRqIb"
      },
      "source": [
        "creating model with 2 LSTM 1 Dense layer"
      ]
    },
    {
      "cell_type": "code",
      "metadata": {
        "id": "L7mXUHMVRqIc"
      },
      "source": [
        "def model_create(number):\n",
        "    model=Sequential()\n",
        "    model.add(LSTM(256,input_shape=(number,6),activation=\"relu\",batch_size=1))\n",
        "    model.add(Dense(64,activation=\"relu\"))\n",
        "    model.add(Dense(2,activation=\"softmax\"))\n",
        "    model.compile(Adam(lr=0.00003),loss=\"categorical_crossentropy\",metrics=[\"accuracy\"])\n",
        "    \n",
        "    print(model.summary())\n",
        "    return model\n",
        "\n",
        "\n",
        "    \n",
        "\n",
        "\n"
      ],
      "execution_count": 9,
      "outputs": []
    },
    {
      "cell_type": "markdown",
      "metadata": {
        "id": "pbKsHZXyRqIl"
      },
      "source": [
        "applying model"
      ]
    },
    {
      "cell_type": "code",
      "metadata": {
        "id": "j9QtJNHyRqIm"
      },
      "source": [
        "def model_fit(model,xtrain,xvalid,ytrain,yvalid):\n",
        "    model.fit(xtrain,ytrain,epochs=10,verbose=2,batch_size=1,validation_data=(xvalid,yvalid))\n",
        "    return model"
      ],
      "execution_count": 13,
      "outputs": []
    },
    {
      "cell_type": "code",
      "metadata": {
        "id": "wYKMWZp0zRzL"
      },
      "source": [
        "def model_test(model,xtrain,xtest,ytrain,ytest):\n",
        "    predictions = model.predict(xtest,batch_size=1,verbose=0)  \n",
        "    return (ytest,predictions,metrics.accuracy_score(ytest.argmax(axis=1), predictions.argmax(axis=1))) "
      ],
      "execution_count": 14,
      "outputs": []
    },
    {
      "cell_type": "markdown",
      "metadata": {
        "id": "grbh59L5RqIr"
      },
      "source": [
        "Driver function"
      ]
    },
    {
      "cell_type": "code",
      "metadata": {
        "id": "i_4cft3MRqIs"
      },
      "source": [
        "def allwork():\n",
        "   tw=283\n",
        "   tr=282\n",
        "   vw=269\n",
        "   vr=268\n",
        "   te=269\n",
        "   tt=\"w\"\n",
        "   dic={\"w\":0,\"r\":1}\n",
        "   number=100\n",
        "\n",
        "   \n",
        "   xtrain,xtest,xvalid=im_data(tw,tr,te,vw,vr,number)\n",
        "   ytrain,ytest,yvalid=label_create(xtrain.shape[0],xtest.shape[0],xvalid.shape[0],dic[tt]) \n",
        "   model=model_create(number) \n",
        "   model=model_fit(model,xtrain,xvalid,ytrain,yvalid)\n",
        "   yt,pr,acc=model_test(model,xtrain,xtest,ytrain,ytest)\n",
        "  \n",
        "  \n",
        "   arg=pr.argmax(axis=1)\n",
        "   diction={0:\"walking\",1:\"running\"}\n",
        "   l=[0,0]\n",
        "   for i in range(len(arg)):\n",
        "    l[arg[i]]+=1\n",
        "   max=0  \n",
        "   for i in range(1,len(l)):\n",
        "     if l[i]>l[max]:\n",
        "       max=i\n",
        "   print(diction[max],\"with \",acc*100,\"% accuracy\")\n",
        "\n",
        "   tw=283\n",
        "   tr=282\n",
        "   vw=269\n",
        "   vr=268\n",
        "   te=268\n",
        "   tt=\"r\"\n",
        "   dic={\"w\":0,\"r\":1}\n",
        "   number=100\n",
        "\n",
        "\n",
        "   xtrain,xtest,xvalid=im_data(tw,tr,te,vw,vr,number)\n",
        "   ytrain,ytest,yvalid=label_create(xtrain.shape[0],xtest.shape[0],xvalid.shape[0],dic[tt]) \n",
        "   yt,pr,acc=model_test(model,xtrain,xtest,ytrain,ytest)\n",
        "   arg=pr.argmax(axis=1)\n",
        "   \n",
        "   \n",
        "   diction={0:\"walking\",1:\"running\"}\n",
        "   l=[0,0]\n",
        "   for i in range(len(arg)):\n",
        "      l[arg[i]]+=1\n",
        "   max=0  \n",
        "   for i in range(1,len(l)):\n",
        "     if l[i]>l[max]:\n",
        "         max=i\n",
        "   print(diction[max],\"with \",acc*100,\"% accuracy\")\n",
        "   return model\n",
        "\n",
        "\n",
        "    \n",
        "   "
      ],
      "execution_count": 15,
      "outputs": []
    },
    {
      "cell_type": "markdown",
      "metadata": {
        "id": "LhEHycSQ5BAl"
      },
      "source": [
        "Running Driver Function"
      ]
    },
    {
      "cell_type": "code",
      "metadata": {
        "id": "3nVic6d-RqIv",
        "colab": {
          "base_uri": "https://localhost:8080/"
        },
        "outputId": "c6596d98-cabb-4a0f-a243-c98e62e5d0b0"
      },
      "source": [
        "model=allwork()"
      ],
      "execution_count": 16,
      "outputs": [
        {
          "output_type": "stream",
          "text": [
            "Model: \"sequential\"\n",
            "_________________________________________________________________\n",
            "Layer (type)                 Output Shape              Param #   \n",
            "=================================================================\n",
            "lstm (LSTM)                  (1, 256)                  269312    \n",
            "_________________________________________________________________\n",
            "dense (Dense)                (1, 64)                   16448     \n",
            "_________________________________________________________________\n",
            "dense_1 (Dense)              (1, 2)                    130       \n",
            "=================================================================\n",
            "Total params: 285,890\n",
            "Trainable params: 285,890\n",
            "Non-trainable params: 0\n",
            "_________________________________________________________________\n",
            "None\n",
            "Epoch 1/10\n",
            "400/400 - 27s - loss: 0.6398 - accuracy: 0.5000 - val_loss: 0.6164 - val_accuracy: 0.5100\n",
            "Epoch 2/10\n",
            "400/400 - 25s - loss: 0.5276 - accuracy: 0.5875 - val_loss: 195844.2656 - val_accuracy: 0.6800\n",
            "Epoch 3/10\n",
            "400/400 - 25s - loss: 1319824785408.0000 - accuracy: 0.8200 - val_loss: 0.5154 - val_accuracy: 0.7900\n",
            "Epoch 4/10\n",
            "400/400 - 25s - loss: 0.4688 - accuracy: 0.8275 - val_loss: 0.4914 - val_accuracy: 0.7800\n",
            "Epoch 5/10\n",
            "400/400 - 25s - loss: 0.4581 - accuracy: 0.8225 - val_loss: 0.4776 - val_accuracy: 0.7800\n",
            "Epoch 6/10\n",
            "400/400 - 25s - loss: 0.4489 - accuracy: 0.8400 - val_loss: 0.4691 - val_accuracy: 0.7900\n",
            "Epoch 7/10\n",
            "400/400 - 25s - loss: 0.4405 - accuracy: 0.8450 - val_loss: 0.4626 - val_accuracy: 0.8000\n",
            "Epoch 8/10\n",
            "400/400 - 25s - loss: 0.4322 - accuracy: 0.8525 - val_loss: 0.4575 - val_accuracy: 0.8200\n",
            "Epoch 9/10\n",
            "400/400 - 26s - loss: 0.4239 - accuracy: 0.8600 - val_loss: 0.4373 - val_accuracy: 0.8300\n",
            "Epoch 10/10\n",
            "400/400 - 25s - loss: 0.4157 - accuracy: 0.8650 - val_loss: 0.4317 - val_accuracy: 0.8300\n",
            "walking with  82.0 % accuracy\n",
            "running with  84.0 % accuracy\n"
          ],
          "name": "stdout"
        }
      ]
    }
  ]
}